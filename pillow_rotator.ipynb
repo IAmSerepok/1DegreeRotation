{
 "cells": [
  {
   "cell_type": "code",
   "execution_count": 1,
   "metadata": {},
   "outputs": [],
   "source": [
    "from PIL import Image"
   ]
  },
  {
   "cell_type": "code",
   "execution_count": 2,
   "metadata": {},
   "outputs": [],
   "source": [
    "def rotate_image(input_image_path, output_image_path, angle):\n",
    "    image = Image.open(input_image_path).convert(\"RGB\")\n",
    "    rotated_image = image.rotate(angle)\n",
    "    rotated_image.save(output_image_path)\n",
    "    image.close()"
   ]
  },
  {
   "cell_type": "code",
   "execution_count": 3,
   "metadata": {},
   "outputs": [],
   "source": [
    "input_path = 'input/line.jpg'\n",
    "output_path = 'output/image/result.png'\n",
    "angle = 1\n",
    "num_of_rotation = 1000"
   ]
  },
  {
   "cell_type": "code",
   "execution_count": 4,
   "metadata": {},
   "outputs": [],
   "source": [
    "rotate_image(input_path, output_path, angle)\n",
    "for _1 in range(num_of_rotation):\n",
    "    rotate_image(output_path, output_path, angle)"
   ]
  }
 ],
 "metadata": {
  "kernelspec": {
   "display_name": "Python 3",
   "language": "python",
   "name": "python3"
  },
  "language_info": {
   "codemirror_mode": {
    "name": "ipython",
    "version": 3
   },
   "file_extension": ".py",
   "mimetype": "text/x-python",
   "name": "python",
   "nbconvert_exporter": "python",
   "pygments_lexer": "ipython3",
   "version": "3.11.9"
  }
 },
 "nbformat": 4,
 "nbformat_minor": 2
}
